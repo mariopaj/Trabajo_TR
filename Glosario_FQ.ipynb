{
 "cells": [
  {
   "cell_type": "markdown",
   "id": "b8a3bd27-d6c6-479c-98e3-f5a630736ced",
   "metadata": {},
   "source": [
    "# Glosario Total Renting"
   ]
  },
  {
   "cell_type": "code",
   "execution_count": 15,
   "id": "88958d9a-2e08-4edd-a0ef-668d569b6072",
   "metadata": {},
   "outputs": [],
   "source": [
    "# Cargamos librerias\n",
    "\n",
    "import pandas as pd\n",
    "import people_also_ask\n",
    "from youtubesearchpython import VideosSearch\n",
    "import re\n",
    "import time\n",
    "from numpy import random"
   ]
  },
  {
   "cell_type": "code",
   "execution_count": 30,
   "id": "758647ae-0a6e-43d5-8f31-8f2cb2d87e14",
   "metadata": {},
   "outputs": [
    {
     "data": {
      "text/plain": [
       "['Abarth 500',\n",
       " 'Alfa Romeo Giulia',\n",
       " 'Alfa Romeo Stelvio',\n",
       " 'Audi A1',\n",
       " 'Audi A3',\n",
       " 'Audi A4',\n",
       " 'Audi A5',\n",
       " 'Audi A6',\n",
       " 'Audi A7',\n",
       " 'Audi A8']"
      ]
     },
     "execution_count": 30,
     "metadata": {},
     "output_type": "execute_result"
    }
   ],
   "source": [
    "# Improtamos en un DF los coches para la búsqueda\n",
    "\n",
    "coches = pd.read_csv('https://raw.githubusercontent.com/mariopaj/Trabajo_TR/main/coches.csv') # Introducir ruta en donde esté ubicado el csv de las Key Words\n",
    "  \n",
    "coches = list(coches.Keyword.apply(lambda x: x.strip())) # Lo pasamos a una lista y eliminamos espacios\n",
    "\n",
    "coches[:10]\n"
   ]
  },
  {
   "cell_type": "code",
   "execution_count": 3,
   "id": "a497184c-4cb3-40d7-8212-dd538156069b",
   "metadata": {},
   "outputs": [
    {
     "data": {
      "text/plain": [
       "255"
      ]
     },
     "execution_count": 3,
     "metadata": {},
     "output_type": "execute_result"
    }
   ],
   "source": [
    "len(coches)"
   ]
  },
  {
   "cell_type": "code",
   "execution_count": 9,
   "id": "e61bc419-e033-4c14-8134-81f6fe347e43",
   "metadata": {},
   "outputs": [],
   "source": [
    "# Función que devuelve pregunta-respuesta en formato HTML\n",
    "\n",
    "def obtener_preguntas_frecuentes_html(key_word, n_preguntas=5, search='Buscar'):\n",
    "    \n",
    "    '''\n",
    "    Esta función sirve para sacar las preguntas frecuentes y su respectiva respuesta\n",
    "    para cualquier key word\n",
    "    \n",
    "    Parameters\n",
    "    ----------\n",
    "    key_word: string\n",
    "        key word de la que queremos encontrar las preguntas y respuestas frecuentes \n",
    "    \n",
    "    n_preguntas: int\n",
    "        número de preguntas máximas que queremos sacar de la key word, por defecto 5\n",
    "    \n",
    "    search: string\n",
    "        palabra 'Buscar' en el idioma que vamos a buscar las palabras frecuentes, por defecto en español\n",
    "    \n",
    "    Returns\n",
    "    -------\n",
    "    string\n",
    "        devuelve un string con las preguntas y las respuestas en formato HTML\n",
    "    '''\n",
    "    try:\n",
    "        questions = people_also_ask.get_related_questions(key_word, n_preguntas)\n",
    "        questions = [question[0:question.find(search)] for question in questions] # Sacamos las preguntas frecuentes limpias\n",
    "\n",
    "        answers = []\n",
    "        contenido = []\n",
    "        for question in questions:\n",
    "            try:\n",
    "                if len(people_also_ask.get_answer(question)['response']) > 3 and people_also_ask.get_answer(question)['snippet_type'] == 'Definition Featured Snippet':    # Comprobamos si el tamaño de la respuesta es mayor a 3 y si la respuesta es una definición\n",
    "                    answers.append(re.sub(r'[0-9]{1,2} [a-z]{3,4} [0-9]{4}', '', people_also_ask.get_answer(question)['response']))                                        # Eliminamos la fecha final de la respuesta                                                                                      # Cogemos la respuesta tal cual sale\n",
    "                    contenido.append('<h3>' + question + '</h3>' + '<p>' + re.sub(r'[0-9]{1,2} [a-z]{3,4} [0-9]{4}', '', people_also_ask.get_answer(question)['response']) + '</p>')\n",
    "\n",
    "                # Esta parte es por si la respuesta a la pregunta es una tabla\n",
    "                elif len(people_also_ask.get_answer(question)['response']) > 3 and people_also_ask.get_answer(question)['snippet_type'] == 'Table Featured Snippet':       # Comprobamos si el tamaño de la respuesta es mayor a 3 y si la respuesta es una tabla\n",
    "                    columns = ' '.join(people_also_ask.get_answer(question)['snippet_data']['columns'])                                                                    # Cogemos la respuesta de la columna\n",
    "                    values = ' '.join([' '.join([str(item) for item in sublist]) + '<br>' for sublist in people_also_ask.get_answer(question)['snippet_data']['values']])  # Sacamos los values en una única lista\n",
    "                    result = columns + '<br>' + values\n",
    "                    answers.append(result)  \n",
    "                    contenido.append('<h3>' + question + '</h3>' + '<p>' + result + '</p>')\n",
    "\n",
    "                # Esta parte es por si la respuesta a la pregunta no es ni una tabla ni definition\n",
    "                else:\n",
    "                    answers.append('')\n",
    "            except:\n",
    "                answers.append('') # Si no encontramos respuesta añadimos un elemento vacío\n",
    "\n",
    "        contenido = [''.join(contenido)][0]\n",
    "\n",
    "        return contenido\n",
    "    \n",
    "    except:\n",
    "        return print('There are no frequently asked questions')"
   ]
  },
  {
   "cell_type": "code",
   "execution_count": 42,
   "id": "7d0f3abc-443c-444a-b1fa-1be12489ba42",
   "metadata": {},
   "outputs": [],
   "source": [
    "# Función que devuelve pregunta-respuesta en formato Lista\n",
    "\n",
    "def obtener_preguntas_frecuentes(key_word, n_preguntas=5, search='Buscar'):\n",
    "    \n",
    "    '''\n",
    "    Esta función sirve para sacar las preguntas frecuentes y su respectiva respuesta\n",
    "    para cualquier key word\n",
    "    \n",
    "    Parameters\n",
    "    ----------\n",
    "    key_word: string\n",
    "        key word de la que queremos encontrar las preguntas y respuestas frecuentes \n",
    "    \n",
    "    n_preguntas: int\n",
    "        número de preguntas máximas que queremos sacar de la key word, por defecto 5\n",
    "    \n",
    "    search: string\n",
    "        palabra 'Buscar' en el idioma que vamos a buscar las palabras frecuentes, por defecto en español\n",
    "    \n",
    "    Returns\n",
    "    -------\n",
    "    df\n",
    "        devuelve un df de preguntas y respuestas\n",
    "    '''\n",
    "    try:\n",
    "        questions = people_also_ask.get_related_questions(key_word, n_preguntas)\n",
    "        questions = [question[0:question.find(search)] for question in questions] # Sacamos las preguntas frecuentes limpias\n",
    "\n",
    "        answers = []\n",
    "        for question in questions:\n",
    "            try:\n",
    "                if len(people_also_ask.get_answer(question)['response']) > 3 and people_also_ask.get_answer(question)['snippet_type'] == 'Definition Featured Snippet':    # Comprobamos si el tamaño de la respuesta es mayor a 3 y si la respuesta es una definición\n",
    "                    answers.append(re.sub(r'[0-9]{1,2} [a-z]{3,4} [0-9]{4}', '', people_also_ask.get_answer(question)['response']))                                        # Eliminamos la fecha final de la respuesta                                                                                      # Cogemos la respuesta tal cual sale\n",
    "\n",
    "                # Esta parte es por si la respuesta a la pregunta es una tabla\n",
    "                elif len(people_also_ask.get_answer(question)['response']) > 3 and people_also_ask.get_answer(question)['snippet_type'] == 'Table Featured Snippet':       # Comprobamos si el tamaño de la respuesta es mayor a 3 y si la respuesta es una tabla\n",
    "                    columns = ' '.join(people_also_ask.get_answer(question)['snippet_data']['columns'])                                                                    # Cogemos la respuesta de la columna\n",
    "                    values = ' '.join([' '.join([str(item) for item in sublist]) for sublist in people_also_ask.get_answer(question)['snippet_data']['values']])  # Sacamos los values en una única lista\n",
    "                    result = columns + values\n",
    "                    answers.append(result)\n",
    "\n",
    "                # Esta parte es por si la respuesta a la pregunta no es ni una tabla ni definition\n",
    "                else:\n",
    "                    answers.append('')\n",
    "            except:\n",
    "                answers.append('') # Si no encontramos respuesta añadimos un elemento vacío\n",
    "\n",
    "            # Creamos una lista sólo de las preguntas que tienen respuesta de cada KeyWord\n",
    "            question_answer = []\n",
    "            for question, answer in zip(questions, answers):\n",
    "                if answer != '':\n",
    "                    question_answer.append([question, answer])\n",
    "                else:\n",
    "                    pass\n",
    "            \n",
    "            # Desglosamos la lista\n",
    "            flat_list = []\n",
    "            for q in question_answer:\n",
    "                for item in q:\n",
    "                    flat_list.append(item)\n",
    "            \n",
    "            flat_list.insert(0, key_word)\n",
    "        \n",
    "        return flat_list\n",
    "    \n",
    "    except:\n",
    "        return print('There are no frequently asked questions')"
   ]
  },
  {
   "cell_type": "code",
   "execution_count": null,
   "id": "4c01b136-eb32-450a-bea4-e82299b2a197",
   "metadata": {},
   "outputs": [],
   "source": [
    "# Sacamos el Excel de las preguntas y respuestas frecuentes\n",
    "\n",
    "def preguntas_frecuentes_and_video_to_excel(kws, n=5, search='Buscar'):\n",
    "    \n",
    "    '''\n",
    "    Esta función sirve para sacar las preguntas frecuentes y su respectiva respuesta\n",
    "    para cualquier key word y almacenarlas en un excel\n",
    "    \n",
    "    Parameters\n",
    "    ----------\n",
    "    kws: list\n",
    "        lista de keywords de las que queremos sacar las preguntas frecuentes\n",
    "    \n",
    "    n_preguntas: int\n",
    "        número de preguntas máximas que queremos sacar de la key word, por defecto 5\n",
    "    \n",
    "    search: string\n",
    "        palabra 'Buscar' en el idioma que vamos a buscar las palabras frecuentes, por defecto en español\n",
    "    \n",
    "    Returns\n",
    "    -------\n",
    "    df\n",
    "        devuelve un df de preguntas y respuestas\n",
    "    '''\n",
    "\n",
    "    dffq = pd.DataFrame()\n",
    "    for kw in kws:\n",
    "        fq = obtener_preguntas_frecuentes(kw, n, search) # Sacamos la lista de pregunta-respuesta\n",
    "        fq.insert(1, VideosSearch(kw, limit = 1).result()['result'][0]['link']) # insertamos el video en la segunda columna\n",
    "        df = pd.DataFrame(fq).transpose()\n",
    "        dffq = pd.concat([dffq, df])\n",
    "        dffq.to_excel('glosario.xlsx', index = False) # Vamos almacenando los resultados en un excel (marcar la ruta donde quieres que se ubique el excel)\n",
    "        \n",
    "        print(kw)\n",
    "        \n",
    "        time.sleep(random.uniform(1, 2)) # Time sleep random entre 1 y 2\n",
    "        \n",
    "    return dffq.head()"
   ]
  },
  {
   "cell_type": "code",
   "execution_count": null,
   "id": "e6a81237-0cbd-4f69-b5c1-7281b1190a9c",
   "metadata": {},
   "outputs": [
    {
     "name": "stdout",
     "output_type": "stream",
     "text": [
      "Abarth 500\n",
      "Alfa Romeo Giulia\n"
     ]
    }
   ],
   "source": [
    "preguntas_frecuentes_and_video_to_excel(coches[:4], 3) # Prueba para varios coches"
   ]
  },
  {
   "cell_type": "code",
   "execution_count": null,
   "id": "72001d2f-adcb-4b54-b2b9-6d37a135694e",
   "metadata": {},
   "outputs": [],
   "source": []
  },
  {
   "cell_type": "code",
   "execution_count": null,
   "id": "e4fe0eaa-5c79-4bee-9015-0ccaf330be6d",
   "metadata": {},
   "outputs": [],
   "source": []
  }
 ],
 "metadata": {
  "kernelspec": {
   "display_name": "Python 3 (ipykernel)",
   "language": "python",
   "name": "python3"
  },
  "language_info": {
   "codemirror_mode": {
    "name": "ipython",
    "version": 3
   },
   "file_extension": ".py",
   "mimetype": "text/x-python",
   "name": "python",
   "nbconvert_exporter": "python",
   "pygments_lexer": "ipython3",
   "version": "3.9.7"
  }
 },
 "nbformat": 4,
 "nbformat_minor": 5
}
